{
 "cells": [
  {
   "cell_type": "code",
   "execution_count": 1,
   "metadata": {},
   "outputs": [],
   "source": [
    "import pandas as pd\n",
    "from src.models.recommendation import Recommender"
   ]
  },
  {
   "cell_type": "code",
   "execution_count": 2,
   "metadata": {},
   "outputs": [],
   "source": [
    "df = pd.read_csv(\"https://minio.lab.sspcloud.fr/jbrablx/mlops/data/raw/data.csv\", sep=\";\")"
   ]
  },
  {
   "cell_type": "code",
   "execution_count": 4,
   "metadata": {},
   "outputs": [],
   "source": [
    "recommender = Recommender(df)\n",
    "query = \"Sortie familiale en nature\""
   ]
  },
  {
   "cell_type": "code",
   "execution_count": 5,
   "metadata": {},
   "outputs": [],
   "source": [
    "recommendations = recommender.get_recommendations(query)"
   ]
  },
  {
   "cell_type": "code",
   "execution_count": 6,
   "metadata": {},
   "outputs": [
    {
     "name": "stdout",
     "output_type": "stream",
     "text": [
      "                                                  Titre  \\\n",
      "1446  Saison 23-24 l Le Mouffetard - Centre national...   \n",
      "2285          Découverte nature en famille avec enfants   \n",
      "2311  Les écrans en famille : des astuces et des jeu...   \n",
      "2536  Découverte Nature en famille avec enfants de 2...   \n",
      "\n",
      "                                                Chapeau  \\\n",
      "1446  Comment s’inscrit-on dans un modèle familial, ...   \n",
      "2285  Balade Nature & Montessori. \\r\\nLes Dimanches ...   \n",
      "2311  Cet atelier alterne entre une réflexion sur le...   \n",
      "2536  Balade Nature & Montessori. \\r\\nLes dimanches ...   \n",
      "\n",
      "                                            Description  \\\n",
      "1446  <p>Le monde a tellement changé en si peu de te...   \n",
      "2285  <p><strong>(Re)connectez-vous à la Nature en F...   \n",
      "2311  <p>Autour d'un jus d'orange ou d'un café, vene...   \n",
      "2536  <p><strong> Au programme : </strong></p><p>Ave...   \n",
      "\n",
      "                                                    URL  \n",
      "1446  https://www.paris.fr/evenements/saison-23-24-l...  \n",
      "2285  https://www.paris.fr/evenements/decouverte-nat...  \n",
      "2311  https://www.paris.fr/evenements/les-ecrans-en-...  \n",
      "2536  https://www.paris.fr/evenements/decouverte-nat...  \n"
     ]
    }
   ],
   "source": [
    "print(recommendations)"
   ]
  },
  {
   "cell_type": "code",
   "execution_count": null,
   "metadata": {},
   "outputs": [],
   "source": []
  }
 ],
 "metadata": {
  "kernelspec": {
   "display_name": "base",
   "language": "python",
   "name": "python3"
  },
  "language_info": {
   "codemirror_mode": {
    "name": "ipython",
    "version": 3
   },
   "file_extension": ".py",
   "mimetype": "text/x-python",
   "name": "python",
   "nbconvert_exporter": "python",
   "pygments_lexer": "ipython3",
   "version": "3.11.6"
  }
 },
 "nbformat": 4,
 "nbformat_minor": 2
}
