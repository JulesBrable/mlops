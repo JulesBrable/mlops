{
 "cells": [
  {
   "cell_type": "code",
   "execution_count": 1,
   "metadata": {},
   "outputs": [
    {
     "name": "stderr",
     "output_type": "stream",
     "text": [
      "/tmp/ipykernel_7475/4080736814.py:1: DeprecationWarning: \n",
      "Pyarrow will become a required dependency of pandas in the next major release of pandas (pandas 3.0),\n",
      "(to allow more performant data types, such as the Arrow string type, and better interoperability with other libraries)\n",
      "but was not found to be installed on your system.\n",
      "If this would cause problems for you,\n",
      "please provide us feedback at https://github.com/pandas-dev/pandas/issues/54466\n",
      "        \n",
      "  import pandas as pd\n"
     ]
    }
   ],
   "source": [
    "import pandas as pd"
   ]
  },
  {
   "cell_type": "code",
   "execution_count": 2,
   "metadata": {},
   "outputs": [],
   "source": [
    "df = pd.read_csv(\"data/reviews.csv\")"
   ]
  },
  {
   "cell_type": "code",
   "execution_count": 3,
   "metadata": {},
   "outputs": [
    {
     "data": {
      "text/html": [
       "<div>\n",
       "<style scoped>\n",
       "    .dataframe tbody tr th:only-of-type {\n",
       "        vertical-align: middle;\n",
       "    }\n",
       "\n",
       "    .dataframe tbody tr th {\n",
       "        vertical-align: top;\n",
       "    }\n",
       "\n",
       "    .dataframe thead th {\n",
       "        text-align: right;\n",
       "    }\n",
       "</style>\n",
       "<table border=\"1\" class=\"dataframe\">\n",
       "  <thead>\n",
       "    <tr style=\"text-align: right;\">\n",
       "      <th></th>\n",
       "      <th>listing_id</th>\n",
       "      <th>id</th>\n",
       "      <th>date</th>\n",
       "      <th>reviewer_id</th>\n",
       "      <th>reviewer_name</th>\n",
       "      <th>comments</th>\n",
       "    </tr>\n",
       "  </thead>\n",
       "  <tbody>\n",
       "    <tr>\n",
       "      <th>0</th>\n",
       "      <td>3109</td>\n",
       "      <td>207127433</td>\n",
       "      <td>2017-10-28</td>\n",
       "      <td>51636494</td>\n",
       "      <td>Patricia</td>\n",
       "      <td>Tout s'est bien déroulé. Merci bien. PG</td>\n",
       "    </tr>\n",
       "    <tr>\n",
       "      <th>1</th>\n",
       "      <td>3109</td>\n",
       "      <td>208779822</td>\n",
       "      <td>2017-11-03</td>\n",
       "      <td>4142888</td>\n",
       "      <td>Patricia</td>\n",
       "      <td>Un petit nid fouiller douillet situé dans  app...</td>\n",
       "    </tr>\n",
       "    <tr>\n",
       "      <th>2</th>\n",
       "      <td>3109</td>\n",
       "      <td>295840159</td>\n",
       "      <td>2018-07-24</td>\n",
       "      <td>7415343</td>\n",
       "      <td>Laurent</td>\n",
       "      <td>Appartement spacieux, propre,clair, et calme à...</td>\n",
       "    </tr>\n",
       "    <tr>\n",
       "      <th>3</th>\n",
       "      <td>3109</td>\n",
       "      <td>553502638</td>\n",
       "      <td>2019-10-24</td>\n",
       "      <td>21159216</td>\n",
       "      <td>Anastasia</td>\n",
       "      <td>Appartement totalement rénové, en parfait état...</td>\n",
       "    </tr>\n",
       "    <tr>\n",
       "      <th>4</th>\n",
       "      <td>5396</td>\n",
       "      <td>4824</td>\n",
       "      <td>2009-06-30</td>\n",
       "      <td>19995</td>\n",
       "      <td>Sarah</td>\n",
       "      <td>Perfect location!! Nasrine was a delight and m...</td>\n",
       "    </tr>\n",
       "    <tr>\n",
       "      <th>...</th>\n",
       "      <td>...</td>\n",
       "      <td>...</td>\n",
       "      <td>...</td>\n",
       "      <td>...</td>\n",
       "      <td>...</td>\n",
       "      <td>...</td>\n",
       "    </tr>\n",
       "    <tr>\n",
       "      <th>1721447</th>\n",
       "      <td>1039842567530124081</td>\n",
       "      <td>1042702285953157587</td>\n",
       "      <td>2023-12-09</td>\n",
       "      <td>373781559</td>\n",
       "      <td>Efraim</td>\n",
       "      <td>Petit studio, très beau et très comfortable. C...</td>\n",
       "    </tr>\n",
       "    <tr>\n",
       "      <th>1721448</th>\n",
       "      <td>1039842567530124081</td>\n",
       "      <td>1043366104781947066</td>\n",
       "      <td>2023-12-10</td>\n",
       "      <td>57803453</td>\n",
       "      <td>Roman</td>\n",
       "      <td>J'ai récemment séjourné dans ce charmant studi...</td>\n",
       "    </tr>\n",
       "    <tr>\n",
       "      <th>1721449</th>\n",
       "      <td>1040384973527856645</td>\n",
       "      <td>1041180077560231031</td>\n",
       "      <td>2023-12-07</td>\n",
       "      <td>10445285</td>\n",
       "      <td>Matthew</td>\n",
       "      <td>Simon was a great host with excellent communic...</td>\n",
       "    </tr>\n",
       "    <tr>\n",
       "      <th>1721450</th>\n",
       "      <td>1040440746407092425</td>\n",
       "      <td>1043378462506110040</td>\n",
       "      <td>2023-12-10</td>\n",
       "      <td>173176451</td>\n",
       "      <td>Christine</td>\n",
       "      <td>Het verblijf bij Joffrey was geweldig! Een fij...</td>\n",
       "    </tr>\n",
       "    <tr>\n",
       "      <th>1721451</th>\n",
       "      <td>1040557336371326305</td>\n",
       "      <td>1044824854515520433</td>\n",
       "      <td>2023-12-12</td>\n",
       "      <td>84327648</td>\n",
       "      <td>Kenza</td>\n",
       "      <td>Un hôte au top, un appartement identique aux b...</td>\n",
       "    </tr>\n",
       "  </tbody>\n",
       "</table>\n",
       "<p>1721452 rows × 6 columns</p>\n",
       "</div>"
      ],
      "text/plain": [
       "                  listing_id                   id        date  reviewer_id  \\\n",
       "0                       3109            207127433  2017-10-28     51636494   \n",
       "1                       3109            208779822  2017-11-03      4142888   \n",
       "2                       3109            295840159  2018-07-24      7415343   \n",
       "3                       3109            553502638  2019-10-24     21159216   \n",
       "4                       5396                 4824  2009-06-30        19995   \n",
       "...                      ...                  ...         ...          ...   \n",
       "1721447  1039842567530124081  1042702285953157587  2023-12-09    373781559   \n",
       "1721448  1039842567530124081  1043366104781947066  2023-12-10     57803453   \n",
       "1721449  1040384973527856645  1041180077560231031  2023-12-07     10445285   \n",
       "1721450  1040440746407092425  1043378462506110040  2023-12-10    173176451   \n",
       "1721451  1040557336371326305  1044824854515520433  2023-12-12     84327648   \n",
       "\n",
       "        reviewer_name                                           comments  \n",
       "0            Patricia            Tout s'est bien déroulé. Merci bien. PG  \n",
       "1            Patricia  Un petit nid fouiller douillet situé dans  app...  \n",
       "2             Laurent  Appartement spacieux, propre,clair, et calme à...  \n",
       "3           Anastasia  Appartement totalement rénové, en parfait état...  \n",
       "4               Sarah  Perfect location!! Nasrine was a delight and m...  \n",
       "...               ...                                                ...  \n",
       "1721447        Efraim  Petit studio, très beau et très comfortable. C...  \n",
       "1721448         Roman  J'ai récemment séjourné dans ce charmant studi...  \n",
       "1721449       Matthew  Simon was a great host with excellent communic...  \n",
       "1721450     Christine  Het verblijf bij Joffrey was geweldig! Een fij...  \n",
       "1721451         Kenza  Un hôte au top, un appartement identique aux b...  \n",
       "\n",
       "[1721452 rows x 6 columns]"
      ]
     },
     "execution_count": 3,
     "metadata": {},
     "output_type": "execute_result"
    }
   ],
   "source": [
    "df"
   ]
  },
  {
   "cell_type": "code",
   "execution_count": 4,
   "metadata": {},
   "outputs": [
    {
     "data": {
      "text/plain": [
       "111"
      ]
     },
     "execution_count": 4,
     "metadata": {},
     "output_type": "execute_result"
    }
   ],
   "source": [
    "df[\"comments\"].isna().sum()"
   ]
  },
  {
   "cell_type": "code",
   "execution_count": 5,
   "metadata": {},
   "outputs": [
    {
     "data": {
      "text/plain": [
       "(1721452, 6)"
      ]
     },
     "execution_count": 5,
     "metadata": {},
     "output_type": "execute_result"
    }
   ],
   "source": [
    "df.shape"
   ]
  },
  {
   "cell_type": "code",
   "execution_count": 6,
   "metadata": {},
   "outputs": [],
   "source": [
    "df.dropna(axis=0, subset=\"comments\", inplace=True)\n",
    "df = df.reset_index(drop=True)"
   ]
  },
  {
   "cell_type": "code",
   "execution_count": 7,
   "metadata": {},
   "outputs": [
    {
     "data": {
      "text/plain": [
       "(1721341, 6)"
      ]
     },
     "execution_count": 7,
     "metadata": {},
     "output_type": "execute_result"
    }
   ],
   "source": [
    "df.shape"
   ]
  },
  {
   "cell_type": "code",
   "execution_count": 8,
   "metadata": {},
   "outputs": [
    {
     "data": {
      "text/plain": [
       "'2009-06-30'"
      ]
     },
     "execution_count": 8,
     "metadata": {},
     "output_type": "execute_result"
    }
   ],
   "source": [
    "df[\"date\"].min()"
   ]
  },
  {
   "cell_type": "code",
   "execution_count": 9,
   "metadata": {},
   "outputs": [
    {
     "name": "stdout",
     "output_type": "stream",
     "text": [
      "[               3109                5396                7964 ...\n",
      " 1040384973527856645 1040440746407092425 1040557336371326305] 56437\n"
     ]
    }
   ],
   "source": [
    "print(df[\"listing_id\"].unique(), df[\"listing_id\"].nunique())"
   ]
  },
  {
   "cell_type": "code",
   "execution_count": 10,
   "metadata": {},
   "outputs": [
    {
     "data": {
      "text/plain": [
       "11.0"
      ]
     },
     "execution_count": 10,
     "metadata": {},
     "output_type": "execute_result"
    }
   ],
   "source": [
    "df[\"listing_id\"].value_counts().median()"
   ]
  },
  {
   "cell_type": "code",
   "execution_count": 11,
   "metadata": {},
   "outputs": [],
   "source": [
    "df1 = pd.read_csv(\"data/listings.csv\")"
   ]
  },
  {
   "cell_type": "code",
   "execution_count": 12,
   "metadata": {},
   "outputs": [
    {
     "data": {
      "text/plain": [
       "Index(['id', 'listing_url', 'scrape_id', 'last_scraped', 'source', 'name',\n",
       "       'description', 'neighborhood_overview', 'picture_url', 'host_id',\n",
       "       'host_url', 'host_name', 'host_since', 'host_location', 'host_about',\n",
       "       'host_response_time', 'host_response_rate', 'host_acceptance_rate',\n",
       "       'host_is_superhost', 'host_thumbnail_url', 'host_picture_url',\n",
       "       'host_neighbourhood', 'host_listings_count',\n",
       "       'host_total_listings_count', 'host_verifications',\n",
       "       'host_has_profile_pic', 'host_identity_verified', 'neighbourhood',\n",
       "       'neighbourhood_cleansed', 'neighbourhood_group_cleansed', 'latitude',\n",
       "       'longitude', 'property_type', 'room_type', 'accommodates', 'bathrooms',\n",
       "       'bathrooms_text', 'bedrooms', 'beds', 'amenities', 'price',\n",
       "       'minimum_nights', 'maximum_nights', 'minimum_minimum_nights',\n",
       "       'maximum_minimum_nights', 'minimum_maximum_nights',\n",
       "       'maximum_maximum_nights', 'minimum_nights_avg_ntm',\n",
       "       'maximum_nights_avg_ntm', 'calendar_updated', 'has_availability',\n",
       "       'availability_30', 'availability_60', 'availability_90',\n",
       "       'availability_365', 'calendar_last_scraped', 'number_of_reviews',\n",
       "       'number_of_reviews_ltm', 'number_of_reviews_l30d', 'first_review',\n",
       "       'last_review', 'review_scores_rating', 'review_scores_accuracy',\n",
       "       'review_scores_cleanliness', 'review_scores_checkin',\n",
       "       'review_scores_communication', 'review_scores_location',\n",
       "       'review_scores_value', 'license', 'instant_bookable',\n",
       "       'calculated_host_listings_count',\n",
       "       'calculated_host_listings_count_entire_homes',\n",
       "       'calculated_host_listings_count_private_rooms',\n",
       "       'calculated_host_listings_count_shared_rooms', 'reviews_per_month'],\n",
       "      dtype='object')"
      ]
     },
     "execution_count": 12,
     "metadata": {},
     "output_type": "execute_result"
    }
   ],
   "source": [
    "df1.columns"
   ]
  },
  {
   "cell_type": "code",
   "execution_count": 13,
   "metadata": {},
   "outputs": [
    {
     "data": {
      "text/plain": [
       "0                       https://www.airbnb.com/rooms/3109\n",
       "1                       https://www.airbnb.com/rooms/5396\n",
       "2                      https://www.airbnb.com/rooms/81106\n",
       "3                       https://www.airbnb.com/rooms/7397\n",
       "4                       https://www.airbnb.com/rooms/7964\n",
       "                               ...                       \n",
       "74324    https://www.airbnb.com/rooms/1043932119757241230\n",
       "74325    https://www.airbnb.com/rooms/1043947326757240041\n",
       "74326    https://www.airbnb.com/rooms/1043968453109441641\n",
       "74327    https://www.airbnb.com/rooms/1044178383796738008\n",
       "74328    https://www.airbnb.com/rooms/1044192462569643662\n",
       "Name: listing_url, Length: 74329, dtype: object"
      ]
     },
     "execution_count": 13,
     "metadata": {},
     "output_type": "execute_result"
    }
   ],
   "source": [
    "df1[\"listing_url\"]"
   ]
  },
  {
   "cell_type": "code",
   "execution_count": 14,
   "metadata": {},
   "outputs": [
    {
     "data": {
      "text/plain": [
       "0        $150.00\n",
       "1        $146.00\n",
       "2        $110.00\n",
       "3        $140.00\n",
       "4        $180.00\n",
       "          ...   \n",
       "74324    $324.00\n",
       "74325     $85.00\n",
       "74326    $190.00\n",
       "74327    $114.00\n",
       "74328    $837.00\n",
       "Name: price, Length: 74329, dtype: object"
      ]
     },
     "execution_count": 14,
     "metadata": {},
     "output_type": "execute_result"
    }
   ],
   "source": [
    "df1[\"price\"]"
   ]
  },
  {
   "cell_type": "code",
   "execution_count": 15,
   "metadata": {},
   "outputs": [
    {
     "name": "stderr",
     "output_type": "stream",
     "text": [
      "/home/onyxia/work/bertopic/lib/python3.11/site-packages/tqdm/auto.py:21: TqdmWarning: IProgress not found. Please update jupyter and ipywidgets. See https://ipywidgets.readthedocs.io/en/stable/user_install.html\n",
      "  from .autonotebook import tqdm as notebook_tqdm\n",
      "Loading checkpoint shards: 100%|██████████| 3/3 [00:12<00:00,  4.23s/it]\n"
     ]
    }
   ],
   "source": [
    "from transformers import AutoTokenizer, AutoModelForCausalLM, BitsAndBytesConfig\n",
    "import torch\n",
    "\n",
    "model_id = \"mistralai/Mistral-7B-Instruct-v0.2\"\n",
    "\n",
    "tokenizer = AutoTokenizer.from_pretrained(model_id)\n",
    "model = AutoModelForCausalLM.from_pretrained(\n",
    "    model_id,\n",
    "    trust_remote_code=True,\n",
    "    device_map='auto'\n",
    "    )"
   ]
  },
  {
   "cell_type": "code",
   "execution_count": 16,
   "metadata": {},
   "outputs": [
    {
     "name": "stderr",
     "output_type": "stream",
     "text": [
      "No sentence-transformers model found with name dangvantuan/sentence-camembert-large. Creating a new one with MEAN pooling.\n"
     ]
    }
   ],
   "source": [
    "from sentence_transformers import SentenceTransformer\n",
    "\n",
    "# Pre-calculate embeddings\n",
    "embedding_model = SentenceTransformer(\"dangvantuan/sentence-camembert-large\")"
   ]
  },
  {
   "cell_type": "code",
   "execution_count": 17,
   "metadata": {},
   "outputs": [
    {
     "data": {
      "text/plain": [
       "[56437, 1721341]"
      ]
     },
     "execution_count": 17,
     "metadata": {},
     "output_type": "execute_result"
    }
   ],
   "source": [
    "[df[col].nunique() for col in [\"listing_id\", \"id\"]]"
   ]
  },
  {
   "cell_type": "code",
   "execution_count": 18,
   "metadata": {},
   "outputs": [
    {
     "data": {
      "text/plain": [
       "listing_id\n",
       "32108562              30\n",
       "797545084111711312    30\n",
       "38711734              30\n",
       "32252252              30\n",
       "50264317              30\n",
       "                      ..\n",
       "936863338311264567    30\n",
       "19215494              30\n",
       "45841279              30\n",
       "29503670              30\n",
       "24596494              30\n",
       "Name: count, Length: 417, dtype: int64"
      ]
     },
     "execution_count": 18,
     "metadata": {},
     "output_type": "execute_result"
    }
   ],
   "source": [
    "countdf = df[\"listing_id\"].value_counts()\n",
    "countdf[countdf.values == 30]"
   ]
  },
  {
   "cell_type": "code",
   "execution_count": 19,
   "metadata": {},
   "outputs": [],
   "source": [
    "corpus = df[df[\"listing_id\"] == 53837741].reset_index(drop=True)[\"comments\"]"
   ]
  },
  {
   "cell_type": "code",
   "execution_count": 20,
   "metadata": {},
   "outputs": [
    {
     "name": "stderr",
     "output_type": "stream",
     "text": [
      "Batches:   0%|          | 0/1 [00:00<?, ?it/s]"
     ]
    },
    {
     "name": "stderr",
     "output_type": "stream",
     "text": [
      "Batches: 100%|██████████| 1/1 [01:54<00:00, 114.07s/it]\n"
     ]
    }
   ],
   "source": [
    "embeddings = embedding_model.encode(corpus, show_progress_bar=True)"
   ]
  },
  {
   "cell_type": "code",
   "execution_count": 33,
   "metadata": {},
   "outputs": [],
   "source": [
    "# System prompt describes information given to all conversations\n",
    "system_prompt = \"\"\"\n",
    "<s>[INST] <<SYS>>\n",
    "You are a helpful, respectful and honest assistant for labeling topics.\n",
    "<</SYS>>\n",
    "\"\"\"\n",
    "\n",
    "# Example prompt demonstrating the output we are looking for\n",
    "example_prompt = \"\"\"\n",
    "I have a topic that contains the following documents:\n",
    "- Traditional diets in most cultures were primarily plant-based with a little meat on top, but with the rise of industrial style meat production and factory farming, meat has become a staple food.\n",
    "- Meat, but especially beef, is the word food in terms of emissions.\n",
    "- Eating meat doesn't make you a bad person, not eating meat doesn't make you a good one.\n",
    "\n",
    "The topic is described by the following keywords: 'meat, beef, eat, eating, emissions, steak, food, health, processed, chicken'.\n",
    "\n",
    "Based on the information about the topic above, please create a short label of this topic. Make sure you to only return the label and nothing more.\n",
    "\n",
    "[/INST] Environmental impacts of eating meat\n",
    "\"\"\"\n",
    "\n",
    "# Our main prompt with documents ([DOCUMENTS]) and keywords ([KEYWORDS]) tags\n",
    "main_prompt = \"\"\"\n",
    "[INST]\n",
    "I have a topic that contains the following documents:\n",
    "[DOCUMENTS]\n",
    "\n",
    "The topic is described by the following keywords: '[KEYWORDS]'.\n",
    "\n",
    "Based on the information about the topic above, please create a short, precise and concise label (5 words maximum) of this topic. Make sure you to only return the label and nothing more.\n",
    "[/INST]\n",
    "\"\"\"\n",
    "\n",
    "prompt = system_prompt + example_prompt + main_prompt"
   ]
  },
  {
   "cell_type": "code",
   "execution_count": 34,
   "metadata": {},
   "outputs": [
    {
     "data": {
      "text/plain": [
       "LlamaTokenizerFast(name_or_path='mistralai/Mistral-7B-Instruct-v0.2', vocab_size=32000, model_max_length=1000000000000000019884624838656, is_fast=True, padding_side='left', truncation_side='right', special_tokens={'bos_token': '<s>', 'eos_token': '</s>', 'unk_token': '<unk>'}, clean_up_tokenization_spaces=False),  added_tokens_decoder={\n",
       "\t0: AddedToken(\"<unk>\", rstrip=False, lstrip=False, single_word=False, normalized=False, special=True),\n",
       "\t1: AddedToken(\"<s>\", rstrip=False, lstrip=False, single_word=False, normalized=False, special=True),\n",
       "\t2: AddedToken(\"</s>\", rstrip=False, lstrip=False, single_word=False, normalized=False, special=True),\n",
       "}"
      ]
     },
     "execution_count": 34,
     "metadata": {},
     "output_type": "execute_result"
    }
   ],
   "source": [
    "tokenizer"
   ]
  },
  {
   "cell_type": "code",
   "execution_count": 35,
   "metadata": {},
   "outputs": [],
   "source": [
    "import transformers\n",
    "\n",
    "model.eval()\n",
    "\n",
    "generator = transformers.pipeline(\n",
    "    model=model, tokenizer=tokenizer,\n",
    "    task='text-generation',\n",
    "    temperature=0.1,\n",
    "    max_new_tokens=500,\n",
    "    repetition_penalty=1.1,\n",
    "    pad_token_id=tokenizer.eos_token_id\n",
    ")\n"
   ]
  },
  {
   "cell_type": "code",
   "execution_count": 39,
   "metadata": {},
   "outputs": [],
   "source": [
    "from umap import UMAP\n",
    "from hdbscan import HDBSCAN\n",
    "from sklearn.feature_extraction.text import CountVectorizer\n",
    "from bertopic import BERTopic\n",
    "from bertopic.representation import TextGeneration\n",
    "from bertopic.vectorizers import ClassTfidfTransformer\n",
    "\n",
    "umap_model = UMAP(n_neighbors=3, n_components=5, min_dist=0.0, metric='cosine', random_state=42)\n",
    "hdbscan_model = HDBSCAN(min_cluster_size=3, metric='euclidean', cluster_selection_method='eom', prediction_data=True)\n",
    "vectorizer_model = CountVectorizer(stop_words=\"english\", min_df=2, ngram_range=(1, 2))\n",
    "ctfidf_model = ClassTfidfTransformer(reduce_frequent_words=True)\n",
    "\n",
    "llm = TextGeneration(generator, prompt=prompt)\n",
    "representation_model = {\n",
    "    \"LLM\": llm,\n",
    "}\n",
    "\n",
    "topic_model = BERTopic(\n",
    "\n",
    "  # Pipeline models\n",
    "  embedding_model=embedding_model,\n",
    "  umap_model=umap_model,\n",
    "  hdbscan_model=hdbscan_model,\n",
    "  vectorizer_model=vectorizer_model,\n",
    "  ctfidf_model=ctfidf_model,\n",
    "  representation_model=representation_model,\n",
    "\n",
    "  # Hyperparameters\n",
    "  top_n_words=30,\n",
    "  verbose=True\n",
    ")\n"
   ]
  },
  {
   "cell_type": "code",
   "execution_count": 40,
   "metadata": {},
   "outputs": [
    {
     "name": "stderr",
     "output_type": "stream",
     "text": [
      "2024-02-07 18:56:16,945 - BERTopic - Dimensionality - Fitting the dimensionality reduction algorithm\n",
      "2024-02-07 18:56:17,883 - BERTopic - Dimensionality - Completed ✓\n",
      "2024-02-07 18:56:17,884 - BERTopic - Cluster - Start clustering the reduced embeddings\n",
      "2024-02-07 18:56:17,890 - BERTopic - Cluster - Completed ✓\n",
      "2024-02-07 18:56:17,893 - BERTopic - Representation - Extracting topics from clusters using representation models.\n",
      "100%|██████████| 2/2 [06:32<00:00, 196.24s/it]\n",
      "2024-02-07 19:02:50,421 - BERTopic - Representation - Completed ✓\n"
     ]
    }
   ],
   "source": [
    "# Train model\n",
    "topics, probs = topic_model.fit_transform(corpus, embeddings)"
   ]
  },
  {
   "cell_type": "code",
   "execution_count": 41,
   "metadata": {},
   "outputs": [
    {
     "data": {
      "text/html": [
       "<div>\n",
       "<style scoped>\n",
       "    .dataframe tbody tr th:only-of-type {\n",
       "        vertical-align: middle;\n",
       "    }\n",
       "\n",
       "    .dataframe tbody tr th {\n",
       "        vertical-align: top;\n",
       "    }\n",
       "\n",
       "    .dataframe thead th {\n",
       "        text-align: right;\n",
       "    }\n",
       "</style>\n",
       "<table border=\"1\" class=\"dataframe\">\n",
       "  <thead>\n",
       "    <tr style=\"text-align: right;\">\n",
       "      <th></th>\n",
       "      <th>Topic</th>\n",
       "      <th>Count</th>\n",
       "      <th>Name</th>\n",
       "      <th>Representation</th>\n",
       "      <th>LLM</th>\n",
       "      <th>Representative_Docs</th>\n",
       "    </tr>\n",
       "  </thead>\n",
       "  <tbody>\n",
       "    <tr>\n",
       "      <th>0</th>\n",
       "      <td>0</td>\n",
       "      <td>21</td>\n",
       "      <td>0_br_paris_location_apartment</td>\n",
       "      <td>[br, paris, location, apartment, nice, perfect...</td>\n",
       "      <td>[Paris apartment reviews: Charming, local stay...</td>\n",
       "      <td>[First of all, Diane is a very accommodating h...</td>\n",
       "    </tr>\n",
       "    <tr>\n",
       "      <th>1</th>\n",
       "      <td>1</td>\n",
       "      <td>9</td>\n",
       "      <td>1_très_appartement_et_et très</td>\n",
       "      <td>[très, appartement, et, et très, agréable, est...</td>\n",
       "      <td>[Reviews of Paris apartments: pros and cons., ...</td>\n",
       "      <td>[Très joli appartement, décoré avec bcp de goû...</td>\n",
       "    </tr>\n",
       "  </tbody>\n",
       "</table>\n",
       "</div>"
      ],
      "text/plain": [
       "   Topic  Count                           Name  \\\n",
       "0      0     21  0_br_paris_location_apartment   \n",
       "1      1      9  1_très_appartement_et_et très   \n",
       "\n",
       "                                      Representation  \\\n",
       "0  [br, paris, location, apartment, nice, perfect...   \n",
       "1  [très, appartement, et, et très, agréable, est...   \n",
       "\n",
       "                                                 LLM  \\\n",
       "0  [Paris apartment reviews: Charming, local stay...   \n",
       "1  [Reviews of Paris apartments: pros and cons., ...   \n",
       "\n",
       "                                 Representative_Docs  \n",
       "0  [First of all, Diane is a very accommodating h...  \n",
       "1  [Très joli appartement, décoré avec bcp de goû...  "
      ]
     },
     "execution_count": 41,
     "metadata": {},
     "output_type": "execute_result"
    }
   ],
   "source": [
    "# Show topics\n",
    "topic_model.get_topic_info()"
   ]
  },
  {
   "cell_type": "code",
   "execution_count": null,
   "metadata": {},
   "outputs": [],
   "source": []
  }
 ],
 "metadata": {
  "kernelspec": {
   "display_name": "tf_gpu",
   "language": "python",
   "name": "python3"
  },
  "language_info": {
   "codemirror_mode": {
    "name": "ipython",
    "version": 3
   },
   "file_extension": ".py",
   "mimetype": "text/x-python",
   "name": "python",
   "nbconvert_exporter": "python",
   "pygments_lexer": "ipython3",
   "version": "3.11.6"
  }
 },
 "nbformat": 4,
 "nbformat_minor": 2
}
