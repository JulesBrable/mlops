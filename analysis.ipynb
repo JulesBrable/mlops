{
 "cells": [
  {
   "cell_type": "code",
   "execution_count": 2,
   "metadata": {},
   "outputs": [],
   "source": [
    "import pandas as pd"
   ]
  },
  {
   "cell_type": "code",
   "execution_count": 3,
   "metadata": {},
   "outputs": [],
   "source": [
    "df = pd.read_csv(\"data/reviews.csv\")"
   ]
  },
  {
   "cell_type": "code",
   "execution_count": 4,
   "metadata": {},
   "outputs": [
    {
     "data": {
      "text/html": [
       "<div>\n",
       "<style scoped>\n",
       "    .dataframe tbody tr th:only-of-type {\n",
       "        vertical-align: middle;\n",
       "    }\n",
       "\n",
       "    .dataframe tbody tr th {\n",
       "        vertical-align: top;\n",
       "    }\n",
       "\n",
       "    .dataframe thead th {\n",
       "        text-align: right;\n",
       "    }\n",
       "</style>\n",
       "<table border=\"1\" class=\"dataframe\">\n",
       "  <thead>\n",
       "    <tr style=\"text-align: right;\">\n",
       "      <th></th>\n",
       "      <th>listing_id</th>\n",
       "      <th>id</th>\n",
       "      <th>date</th>\n",
       "      <th>reviewer_id</th>\n",
       "      <th>reviewer_name</th>\n",
       "      <th>comments</th>\n",
       "    </tr>\n",
       "  </thead>\n",
       "  <tbody>\n",
       "    <tr>\n",
       "      <th>0</th>\n",
       "      <td>3109</td>\n",
       "      <td>207127433</td>\n",
       "      <td>2017-10-28</td>\n",
       "      <td>51636494</td>\n",
       "      <td>Patricia</td>\n",
       "      <td>Tout s'est bien déroulé. Merci bien. PG</td>\n",
       "    </tr>\n",
       "    <tr>\n",
       "      <th>1</th>\n",
       "      <td>3109</td>\n",
       "      <td>208779822</td>\n",
       "      <td>2017-11-03</td>\n",
       "      <td>4142888</td>\n",
       "      <td>Patricia</td>\n",
       "      <td>Un petit nid fouiller douillet situé dans  app...</td>\n",
       "    </tr>\n",
       "    <tr>\n",
       "      <th>2</th>\n",
       "      <td>3109</td>\n",
       "      <td>295840159</td>\n",
       "      <td>2018-07-24</td>\n",
       "      <td>7415343</td>\n",
       "      <td>Laurent</td>\n",
       "      <td>Appartement spacieux, propre,clair, et calme à...</td>\n",
       "    </tr>\n",
       "    <tr>\n",
       "      <th>3</th>\n",
       "      <td>3109</td>\n",
       "      <td>553502638</td>\n",
       "      <td>2019-10-24</td>\n",
       "      <td>21159216</td>\n",
       "      <td>Anastasia</td>\n",
       "      <td>Appartement totalement rénové, en parfait état...</td>\n",
       "    </tr>\n",
       "    <tr>\n",
       "      <th>4</th>\n",
       "      <td>5396</td>\n",
       "      <td>4824</td>\n",
       "      <td>2009-06-30</td>\n",
       "      <td>19995</td>\n",
       "      <td>Sarah</td>\n",
       "      <td>Perfect location!! Nasrine was a delight and m...</td>\n",
       "    </tr>\n",
       "    <tr>\n",
       "      <th>...</th>\n",
       "      <td>...</td>\n",
       "      <td>...</td>\n",
       "      <td>...</td>\n",
       "      <td>...</td>\n",
       "      <td>...</td>\n",
       "      <td>...</td>\n",
       "    </tr>\n",
       "    <tr>\n",
       "      <th>1721447</th>\n",
       "      <td>1039842567530124081</td>\n",
       "      <td>1042702285953157587</td>\n",
       "      <td>2023-12-09</td>\n",
       "      <td>373781559</td>\n",
       "      <td>Efraim</td>\n",
       "      <td>Petit studio, très beau et très comfortable. C...</td>\n",
       "    </tr>\n",
       "    <tr>\n",
       "      <th>1721448</th>\n",
       "      <td>1039842567530124081</td>\n",
       "      <td>1043366104781947066</td>\n",
       "      <td>2023-12-10</td>\n",
       "      <td>57803453</td>\n",
       "      <td>Roman</td>\n",
       "      <td>J'ai récemment séjourné dans ce charmant studi...</td>\n",
       "    </tr>\n",
       "    <tr>\n",
       "      <th>1721449</th>\n",
       "      <td>1040384973527856645</td>\n",
       "      <td>1041180077560231031</td>\n",
       "      <td>2023-12-07</td>\n",
       "      <td>10445285</td>\n",
       "      <td>Matthew</td>\n",
       "      <td>Simon was a great host with excellent communic...</td>\n",
       "    </tr>\n",
       "    <tr>\n",
       "      <th>1721450</th>\n",
       "      <td>1040440746407092425</td>\n",
       "      <td>1043378462506110040</td>\n",
       "      <td>2023-12-10</td>\n",
       "      <td>173176451</td>\n",
       "      <td>Christine</td>\n",
       "      <td>Het verblijf bij Joffrey was geweldig! Een fij...</td>\n",
       "    </tr>\n",
       "    <tr>\n",
       "      <th>1721451</th>\n",
       "      <td>1040557336371326305</td>\n",
       "      <td>1044824854515520433</td>\n",
       "      <td>2023-12-12</td>\n",
       "      <td>84327648</td>\n",
       "      <td>Kenza</td>\n",
       "      <td>Un hôte au top, un appartement identique aux b...</td>\n",
       "    </tr>\n",
       "  </tbody>\n",
       "</table>\n",
       "<p>1721452 rows × 6 columns</p>\n",
       "</div>"
      ],
      "text/plain": [
       "                  listing_id                   id        date  reviewer_id  \\\n",
       "0                       3109            207127433  2017-10-28     51636494   \n",
       "1                       3109            208779822  2017-11-03      4142888   \n",
       "2                       3109            295840159  2018-07-24      7415343   \n",
       "3                       3109            553502638  2019-10-24     21159216   \n",
       "4                       5396                 4824  2009-06-30        19995   \n",
       "...                      ...                  ...         ...          ...   \n",
       "1721447  1039842567530124081  1042702285953157587  2023-12-09    373781559   \n",
       "1721448  1039842567530124081  1043366104781947066  2023-12-10     57803453   \n",
       "1721449  1040384973527856645  1041180077560231031  2023-12-07     10445285   \n",
       "1721450  1040440746407092425  1043378462506110040  2023-12-10    173176451   \n",
       "1721451  1040557336371326305  1044824854515520433  2023-12-12     84327648   \n",
       "\n",
       "        reviewer_name                                           comments  \n",
       "0            Patricia            Tout s'est bien déroulé. Merci bien. PG  \n",
       "1            Patricia  Un petit nid fouiller douillet situé dans  app...  \n",
       "2             Laurent  Appartement spacieux, propre,clair, et calme à...  \n",
       "3           Anastasia  Appartement totalement rénové, en parfait état...  \n",
       "4               Sarah  Perfect location!! Nasrine was a delight and m...  \n",
       "...               ...                                                ...  \n",
       "1721447        Efraim  Petit studio, très beau et très comfortable. C...  \n",
       "1721448         Roman  J'ai récemment séjourné dans ce charmant studi...  \n",
       "1721449       Matthew  Simon was a great host with excellent communic...  \n",
       "1721450     Christine  Het verblijf bij Joffrey was geweldig! Een fij...  \n",
       "1721451         Kenza  Un hôte au top, un appartement identique aux b...  \n",
       "\n",
       "[1721452 rows x 6 columns]"
      ]
     },
     "execution_count": 4,
     "metadata": {},
     "output_type": "execute_result"
    }
   ],
   "source": [
    "df"
   ]
  },
  {
   "cell_type": "code",
   "execution_count": 29,
   "metadata": {},
   "outputs": [
    {
     "data": {
      "text/plain": [
       "97"
      ]
     },
     "execution_count": 29,
     "metadata": {},
     "output_type": "execute_result"
    }
   ],
   "source": [
    "df[\"comments\"].isna().sum()"
   ]
  },
  {
   "cell_type": "code",
   "execution_count": 30,
   "metadata": {},
   "outputs": [
    {
     "data": {
      "text/plain": [
       "'2009-06-30'"
      ]
     },
     "execution_count": 30,
     "metadata": {},
     "output_type": "execute_result"
    }
   ],
   "source": [
    "df[\"date\"].min()"
   ]
  },
  {
   "cell_type": "code",
   "execution_count": 31,
   "metadata": {},
   "outputs": [
    {
     "name": "stdout",
     "output_type": "stream",
     "text": [
      "[               3109                5396                7964 ...\n",
      " 1040384973527856645 1040440746407092425 1040557336371326305] 56438\n"
     ]
    }
   ],
   "source": [
    "print(df[\"listing_id\"].unique(), df[\"listing_id\"].nunique())"
   ]
  },
  {
   "cell_type": "code",
   "execution_count": 40,
   "metadata": {},
   "outputs": [
    {
     "data": {
      "text/plain": [
       "11.0"
      ]
     },
     "execution_count": 40,
     "metadata": {},
     "output_type": "execute_result"
    }
   ],
   "source": [
    "df[\"listing_id\"].value_counts().median()"
   ]
  },
  {
   "cell_type": "code",
   "execution_count": 32,
   "metadata": {},
   "outputs": [],
   "source": [
    "df1 = pd.read_csv(\"data/listings.csv\")"
   ]
  },
  {
   "cell_type": "code",
   "execution_count": 33,
   "metadata": {},
   "outputs": [
    {
     "data": {
      "text/plain": [
       "Index(['id', 'listing_url', 'scrape_id', 'last_scraped', 'source', 'name',\n",
       "       'description', 'neighborhood_overview', 'picture_url', 'host_id',\n",
       "       'host_url', 'host_name', 'host_since', 'host_location', 'host_about',\n",
       "       'host_response_time', 'host_response_rate', 'host_acceptance_rate',\n",
       "       'host_is_superhost', 'host_thumbnail_url', 'host_picture_url',\n",
       "       'host_neighbourhood', 'host_listings_count',\n",
       "       'host_total_listings_count', 'host_verifications',\n",
       "       'host_has_profile_pic', 'host_identity_verified', 'neighbourhood',\n",
       "       'neighbourhood_cleansed', 'neighbourhood_group_cleansed', 'latitude',\n",
       "       'longitude', 'property_type', 'room_type', 'accommodates', 'bathrooms',\n",
       "       'bathrooms_text', 'bedrooms', 'beds', 'amenities', 'price',\n",
       "       'minimum_nights', 'maximum_nights', 'minimum_minimum_nights',\n",
       "       'maximum_minimum_nights', 'minimum_maximum_nights',\n",
       "       'maximum_maximum_nights', 'minimum_nights_avg_ntm',\n",
       "       'maximum_nights_avg_ntm', 'calendar_updated', 'has_availability',\n",
       "       'availability_30', 'availability_60', 'availability_90',\n",
       "       'availability_365', 'calendar_last_scraped', 'number_of_reviews',\n",
       "       'number_of_reviews_ltm', 'number_of_reviews_l30d', 'first_review',\n",
       "       'last_review', 'review_scores_rating', 'review_scores_accuracy',\n",
       "       'review_scores_cleanliness', 'review_scores_checkin',\n",
       "       'review_scores_communication', 'review_scores_location',\n",
       "       'review_scores_value', 'license', 'instant_bookable',\n",
       "       'calculated_host_listings_count',\n",
       "       'calculated_host_listings_count_entire_homes',\n",
       "       'calculated_host_listings_count_private_rooms',\n",
       "       'calculated_host_listings_count_shared_rooms', 'reviews_per_month'],\n",
       "      dtype='object')"
      ]
     },
     "execution_count": 33,
     "metadata": {},
     "output_type": "execute_result"
    }
   ],
   "source": [
    "df1.columns"
   ]
  },
  {
   "cell_type": "code",
   "execution_count": 34,
   "metadata": {},
   "outputs": [
    {
     "data": {
      "text/plain": [
       "0                       https://www.airbnb.com/rooms/3109\n",
       "1                       https://www.airbnb.com/rooms/5396\n",
       "2                      https://www.airbnb.com/rooms/81106\n",
       "3                       https://www.airbnb.com/rooms/7397\n",
       "4                       https://www.airbnb.com/rooms/7964\n",
       "                               ...                       \n",
       "74324    https://www.airbnb.com/rooms/1043932119757241230\n",
       "74325    https://www.airbnb.com/rooms/1043947326757240041\n",
       "74326    https://www.airbnb.com/rooms/1043968453109441641\n",
       "74327    https://www.airbnb.com/rooms/1044178383796738008\n",
       "74328    https://www.airbnb.com/rooms/1044192462569643662\n",
       "Name: listing_url, Length: 74329, dtype: object"
      ]
     },
     "execution_count": 34,
     "metadata": {},
     "output_type": "execute_result"
    }
   ],
   "source": [
    "df1[\"listing_url\"]"
   ]
  },
  {
   "cell_type": "code",
   "execution_count": 35,
   "metadata": {},
   "outputs": [
    {
     "data": {
      "text/plain": [
       "0        $150.00\n",
       "1        $146.00\n",
       "2        $110.00\n",
       "3        $140.00\n",
       "4        $180.00\n",
       "          ...   \n",
       "74324    $324.00\n",
       "74325     $85.00\n",
       "74326    $190.00\n",
       "74327    $114.00\n",
       "74328    $837.00\n",
       "Name: price, Length: 74329, dtype: object"
      ]
     },
     "execution_count": 35,
     "metadata": {},
     "output_type": "execute_result"
    }
   ],
   "source": [
    "df1[\"price\"]"
   ]
  },
  {
   "cell_type": "code",
   "execution_count": null,
   "metadata": {},
   "outputs": [],
   "source": [
    "df[\"\"]"
   ]
  }
 ],
 "metadata": {
  "kernelspec": {
   "display_name": "tf_gpu",
   "language": "python",
   "name": "python3"
  },
  "language_info": {
   "codemirror_mode": {
    "name": "ipython",
    "version": 3
   },
   "file_extension": ".py",
   "mimetype": "text/x-python",
   "name": "python",
   "nbconvert_exporter": "python",
   "pygments_lexer": "ipython3",
   "version": "3.9.6"
  }
 },
 "nbformat": 4,
 "nbformat_minor": 2
}
